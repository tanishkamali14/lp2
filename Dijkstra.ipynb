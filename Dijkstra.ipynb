{
 "cells": [
  {
   "cell_type": "code",
   "execution_count": 2,
   "id": "167030c7",
   "metadata": {},
   "outputs": [
    {
     "name": "stdout",
     "output_type": "stream",
     "text": [
      "[0, 1, 3, 4, 5]\n"
     ]
    }
   ],
   "source": [
    "from numpy import Inf\n",
    "def Dijkstra(graph, start):\n",
    "    l = len(graph)\n",
    "    dist = [Inf for i in range(l)]\n",
    "    dist[start] = 0\n",
    "    vis = [False for i in range(l)]\n",
    "    \n",
    "    \n",
    "    for i in range(l):\n",
    "        u = -1\n",
    "        for x in range(l):\n",
    "            if not vis[x] and (u == -1 or dist[x] < dist[u]):\n",
    "                u = x    \n",
    "        if dist[u] == Inf:\n",
    "            break\n",
    "            \n",
    "       \n",
    "        vis[u] = True\n",
    "        for v, d in graph[u]:\n",
    "            if dist[u] + d < dist[v]:\n",
    "                dist[v] = dist[u] + d        \n",
    "    return dist\n",
    "\n",
    "graph = {\n",
    "    0: [(1, 1)],\n",
    "    1: [(0, 1), (2, 2), (3, 3)],\n",
    "    2: [(1, 2), (3, 1), (4, 5)],\n",
    "    3: [(1, 3), (2, 1), (4, 1)],\n",
    "    4: [(2, 5), (3, 1)]\n",
    "}\n",
    "print(Dijkstra(graph,0))"
   ]
  },
  {
   "cell_type": "code",
   "execution_count": null,
   "id": "de4e0a1e",
   "metadata": {},
   "outputs": [],
   "source": []
  }
 ],
 "metadata": {
  "kernelspec": {
   "display_name": "Python 3 (ipykernel)",
   "language": "python",
   "name": "python3"
  },
  "language_info": {
   "codemirror_mode": {
    "name": "ipython",
    "version": 3
   },
   "file_extension": ".py",
   "mimetype": "text/x-python",
   "name": "python",
   "nbconvert_exporter": "python",
   "pygments_lexer": "ipython3",
   "version": "3.9.13"
  }
 },
 "nbformat": 4,
 "nbformat_minor": 5
}
