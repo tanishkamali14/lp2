{
 "cells": [
  {
   "cell_type": "code",
   "execution_count": 2,
   "id": "b21ace2c",
   "metadata": {},
   "outputs": [],
   "source": [
    "from collections import deque"
   ]
  },
  {
   "cell_type": "code",
   "execution_count": 3,
   "id": "a64fd89b",
   "metadata": {},
   "outputs": [
    {
     "name": "stdout",
     "output_type": "stream",
     "text": [
      "DFS Traversal:\n",
      "A C F B E D "
     ]
    }
   ],
   "source": [
    "\n",
    "graph = {\n",
    "    'A': ['B', 'C'],\n",
    "    'B': ['D', 'E'],\n",
    "    'C': ['F'],\n",
    "    'D': [],\n",
    "    'E': ['F'],\n",
    "    'F': []\n",
    "}\n",
    "\n",
    "def dfs(graph, start):\n",
    "    visited = set()\n",
    "    stack = [start]\n",
    "    \n",
    "    while stack:\n",
    "        vertex = stack.pop()\n",
    "        if vertex not in visited:\n",
    "            print(vertex, end=' ')\n",
    "            visited.add(vertex)\n",
    "            stack.extend([v for v in graph[vertex] if v not in visited])\n",
    "\n",
    "\n",
    "print(\"DFS Traversal:\")\n",
    "dfs(graph, 'A')\n"
   ]
  },
  {
   "cell_type": "code",
   "execution_count": 4,
   "id": "d41bb36f",
   "metadata": {},
   "outputs": [
    {
     "name": "stdout",
     "output_type": "stream",
     "text": [
      "BFS Traversal:\n",
      "A B C D E F "
     ]
    }
   ],
   "source": [
    "from collections import deque\n",
    "\n",
    "graph = {\n",
    "    'A': ['B', 'C'],\n",
    "    'B': ['D', 'E'],\n",
    "    'C': ['F'],\n",
    "    'D': [],\n",
    "    'E': ['F'],\n",
    "    'F': []\n",
    "}\n",
    "\n",
    "def bfs(graph, start):\n",
    "    visited = set()\n",
    "    queue = deque([start])\n",
    "    \n",
    "    while queue:\n",
    "        vertex = queue.popleft()\n",
    "        if vertex not in visited:\n",
    "            print(vertex, end=' ')\n",
    "            visited.add(vertex)\n",
    "            queue.extend([v for v in graph[vertex] if v not in visited])\n",
    "\n",
    "print(\"BFS Traversal:\")\n",
    "bfs(graph, 'A')\n"
   ]
  },
  {
   "cell_type": "code",
   "execution_count": null,
   "id": "52b03e6d",
   "metadata": {},
   "outputs": [],
   "source": []
  }
 ],
 "metadata": {
  "kernelspec": {
   "display_name": "Python 3 (ipykernel)",
   "language": "python",
   "name": "python3"
  },
  "language_info": {
   "codemirror_mode": {
    "name": "ipython",
    "version": 3
   },
   "file_extension": ".py",
   "mimetype": "text/x-python",
   "name": "python",
   "nbconvert_exporter": "python",
   "pygments_lexer": "ipython3",
   "version": "3.9.13"
  }
 },
 "nbformat": 4,
 "nbformat_minor": 5
}
