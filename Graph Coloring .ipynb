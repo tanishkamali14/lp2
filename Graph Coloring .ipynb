{
 "cells": [
  {
   "cell_type": "code",
   "execution_count": 1,
   "id": "fafb1e3e",
   "metadata": {},
   "outputs": [
    {
     "name": "stdout",
     "output_type": "stream",
     "text": [
      "The assigned colors are as follows:\n",
      "Vertex:  0  Color:  1\n",
      "Vertex:  1  Color:  2\n",
      "Vertex:  2  Color:  3\n",
      "Vertex:  3  Color:  2\n",
      "Coloring is possible!\n"
     ]
    }
   ],
   "source": [
    "def printConfiguration(colorArray):\n",
    "    print(\"The assigned colors are as follows:\")\n",
    "    for i in range(4):\n",
    "        print(\"Vertex: \",\n",
    "              i, \" Color: \", colorArray[i])\n",
    "\n",
    "\n",
    "\n",
    "def isSafe(v, graph, colorArray, j):\n",
    "    for i in range(4):\n",
    "        if graph[v][i] == 1 and j == colorArray[i]:\n",
    "            return False\n",
    "    return True\n",
    "\n",
    "\n",
    "\n",
    "def graphColoringAlgorithm(graph, m, i, colorArray):\n",
    "    if(i == 4):\n",
    "        printConfiguration(colorArray)\n",
    "        return True\n",
    "\n",
    "   \n",
    "    for j in range(1, m + 1):\n",
    "        if isSafe(i, graph, colorArray, j):\n",
    "            colorArray[i] = j\n",
    "            if (graphColoringAlgorithm(graph, m, i + 1, colorArray)):\n",
    "                return True\n",
    "            colorArray[i] = 0\n",
    "    return False\n",
    "\n",
    "\n",
    "\n",
    "graph = [\n",
    "        [0, 1, 1, 1],\n",
    "        [1, 0, 1, 0],\n",
    "        [1, 1, 0, 1],\n",
    "        [1, 0, 1, 0],\n",
    "]\n",
    "m = 3\n",
    "\n",
    "\n",
    "colorArray = [0 for i in range(4)]\n",
    "\n",
    "if (graphColoringAlgorithm(graph, m, 0, colorArray)):\n",
    "    print(\"Coloring is possible!\")\n",
    "else:\n",
    "    print(\"Coloring is not possible!\")"
   ]
  },
  {
   "cell_type": "code",
   "execution_count": null,
   "id": "1a485dae",
   "metadata": {},
   "outputs": [],
   "source": []
  }
 ],
 "metadata": {
  "kernelspec": {
   "display_name": "Python 3 (ipykernel)",
   "language": "python",
   "name": "python3"
  },
  "language_info": {
   "codemirror_mode": {
    "name": "ipython",
    "version": 3
   },
   "file_extension": ".py",
   "mimetype": "text/x-python",
   "name": "python",
   "nbconvert_exporter": "python",
   "pygments_lexer": "ipython3",
   "version": "3.9.13"
  }
 },
 "nbformat": 4,
 "nbformat_minor": 5
}
