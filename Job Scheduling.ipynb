{
 "cells": [
  {
   "cell_type": "code",
   "execution_count": 1,
   "id": "1f2e8a1f",
   "metadata": {},
   "outputs": [
    {
     "name": "stdout",
     "output_type": "stream",
     "text": [
      "Jobs scheduled buddy: ['j1', 'j2', 'j4', 'j5']\n",
      "292\n"
     ]
    }
   ],
   "source": [
    "profit = [15,27,10,100, 150]\n",
    "jobs = [\"j1\", \"j2\", \"j3\", \"j4\", \"j5\"]\n",
    "deadline = [2,3,3,3,4] \n",
    "profitNJobs = list(zip(profit,jobs,deadline))\n",
    "profitNJobs = sorted(profitNJobs, key = lambda x: x[0], reverse = True)\n",
    "slot = []\n",
    "for _ in range(len(jobs)):\n",
    "    slot.append(0)\n",
    "\n",
    "profit = 0\n",
    "ans = []\n",
    "\n",
    "for i in range(len(jobs)):\n",
    "    ans.append('null')\n",
    "\n",
    "for i in range(len(jobs)):\n",
    "        job = profitNJobs[i]\n",
    "        #check if slot is occupied\n",
    "        for j in range(job[2], 0, -1):\n",
    "            if slot[j] == 0:\n",
    "                ans[j] = job[1]\n",
    "                profit += job[0]\n",
    "                slot[j] = 1\n",
    "                break\n",
    "        \n",
    "print(\"Jobs scheduled buddy:\",ans[1:])\n",
    "print(profit)"
   ]
  },
  {
   "cell_type": "code",
   "execution_count": null,
   "id": "a3a23d7b",
   "metadata": {},
   "outputs": [],
   "source": []
  }
 ],
 "metadata": {
  "kernelspec": {
   "display_name": "Python 3 (ipykernel)",
   "language": "python",
   "name": "python3"
  },
  "language_info": {
   "codemirror_mode": {
    "name": "ipython",
    "version": 3
   },
   "file_extension": ".py",
   "mimetype": "text/x-python",
   "name": "python",
   "nbconvert_exporter": "python",
   "pygments_lexer": "ipython3",
   "version": "3.9.13"
  }
 },
 "nbformat": 4,
 "nbformat_minor": 5
}
